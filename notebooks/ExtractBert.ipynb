{
 "cells": [
  {
   "cell_type": "markdown",
   "metadata": {},
   "source": [
    "# Extract BERT\n",
    "\n",
    "Notebook to experiment with libraries to extract parts of BERT embeddings"
   ]
  },
  {
   "cell_type": "code",
   "execution_count": 1,
   "metadata": {},
   "outputs": [
    {
     "name": "stderr",
     "output_type": "stream",
     "text": [
      "I1031 15:17:35.353595 139773181261568 file_utils.py:39] PyTorch version 1.2.0 available.\n",
      "I1031 15:17:36.716568 139773181261568 modeling_xlnet.py:194] Better speed can be achieved with apex installed from https://www.github.com/nvidia/apex .\n"
     ]
    }
   ],
   "source": [
    "import transformers\n",
    "import torch"
   ]
  },
  {
   "cell_type": "code",
   "execution_count": null,
   "metadata": {},
   "outputs": [],
   "source": [
    "bert_model = transformers.BertModel.from_pretrained('bert-base-uncased', output_hidden_states=True)\n",
    "bert_tokenizer = transformers.BertTokenizer.from_pretrained('bert-base-uncased')"
   ]
  },
  {
   "cell_type": "code",
   "execution_count": 3,
   "metadata": {},
   "outputs": [
    {
     "data": {
      "text/plain": [
       "['my',\n",
       " 'cat',\n",
       " 'is',\n",
       " 'called',\n",
       " 'xiao',\n",
       " '##nu',\n",
       " '##an',\n",
       " '##hu',\n",
       " '##o',\n",
       " 'and',\n",
       " 'she',\n",
       " 'is',\n",
       " 'warm',\n",
       " 'and',\n",
       " 'fluffy']"
      ]
     },
     "execution_count": 3,
     "metadata": {},
     "output_type": "execute_result"
    }
   ],
   "source": [
    "STR = \"My cat is called Xiaonuanhuo and she is warm and fluffy\"\n",
    "bert_tokenizer.tokenize(STR)"
   ]
  },
  {
   "cell_type": "code",
   "execution_count": 4,
   "metadata": {},
   "outputs": [
    {
     "data": {
      "text/plain": [
       "[2026,\n",
       " 4937,\n",
       " 2003,\n",
       " 2170,\n",
       " 19523,\n",
       " 11231,\n",
       " 2319,\n",
       " 6979,\n",
       " 2080,\n",
       " 1998,\n",
       " 2016,\n",
       " 2003,\n",
       " 4010,\n",
       " 1998,\n",
       " 27036]"
      ]
     },
     "execution_count": 4,
     "metadata": {},
     "output_type": "execute_result"
    }
   ],
   "source": [
    "input_ids = bert_tokenizer.encode(STR)\n",
    "input_ids"
   ]
  },
  {
   "cell_type": "code",
   "execution_count": 5,
   "metadata": {},
   "outputs": [
    {
     "data": {
      "text/plain": [
       "15"
      ]
     },
     "execution_count": 5,
     "metadata": {},
     "output_type": "execute_result"
    }
   ],
   "source": [
    "len(input_ids)"
   ]
  },
  {
   "cell_type": "code",
   "execution_count": 6,
   "metadata": {},
   "outputs": [
    {
     "data": {
      "text/plain": [
       "6"
      ]
     },
     "execution_count": 6,
     "metadata": {},
     "output_type": "execute_result"
    }
   ],
   "source": [
    "input_ids2 = bert_tokenizer.encode(\"this is a much shorter sentence\")\n",
    "len(input_ids2)"
   ]
  },
  {
   "cell_type": "code",
   "execution_count": 7,
   "metadata": {},
   "outputs": [
    {
     "data": {
      "text/plain": [
       "tensor([[[-0.4095,  0.0730,  0.0156,  ...,  0.0193,  0.1457,  0.6264],\n",
       "         [-0.6220, -0.3098,  0.4594,  ..., -0.2029,  0.3284,  1.0646],\n",
       "         [-1.0167, -0.3767,  0.4307,  ..., -0.0539,  0.4236,  0.9048],\n",
       "         ...,\n",
       "         [-0.7988,  0.2165,  0.7978,  ..., -0.0076,  0.0286,  0.4517],\n",
       "         [-0.7674, -0.0174,  0.5640,  ...,  0.0461,  0.0452,  0.5110],\n",
       "         [-0.7672,  0.1120,  0.8036,  ...,  0.1290,  0.1001,  0.5393]]],\n",
       "       grad_fn=<NativeLayerNormBackward>)"
      ]
     },
     "execution_count": 7,
     "metadata": {},
     "output_type": "execute_result"
    }
   ],
   "source": [
    "bert_embeddings = bert_model(torch.tensor([input_ids]))\n",
    "#bert_embeddings = bert_model(torch.tensor([input_ids, input_ids2]))\n",
    "bert_embeddings[0]"
   ]
  },
  {
   "cell_type": "code",
   "execution_count": 8,
   "metadata": {},
   "outputs": [
    {
     "data": {
      "text/plain": [
       "torch.Size([1, 15, 768])"
      ]
     },
     "execution_count": 8,
     "metadata": {},
     "output_type": "execute_result"
    }
   ],
   "source": [
    "bert_embeddings[0].shape"
   ]
  },
  {
   "cell_type": "code",
   "execution_count": 9,
   "metadata": {},
   "outputs": [
    {
     "data": {
      "text/plain": [
       "torch.Size([1, 15, 768])"
      ]
     },
     "execution_count": 9,
     "metadata": {},
     "output_type": "execute_result"
    }
   ],
   "source": [
    "# Final hidden layer, one for each token\n",
    "bert_embeddings[0].shape"
   ]
  },
  {
   "cell_type": "code",
   "execution_count": 10,
   "metadata": {},
   "outputs": [
    {
     "data": {
      "text/plain": [
       "torch.Size([1, 768])"
      ]
     },
     "execution_count": 10,
     "metadata": {},
     "output_type": "execute_result"
    }
   ],
   "source": [
    "# Pooled layer\n",
    "bert_embeddings[1].shape"
   ]
  },
  {
   "cell_type": "code",
   "execution_count": 11,
   "metadata": {},
   "outputs": [
    {
     "data": {
      "text/plain": [
       "13"
      ]
     },
     "execution_count": 11,
     "metadata": {},
     "output_type": "execute_result"
    }
   ],
   "source": [
    "len(bert_embeddings[2])"
   ]
  },
  {
   "cell_type": "code",
   "execution_count": 12,
   "metadata": {},
   "outputs": [
    {
     "data": {
      "text/plain": [
       "torch.Size([1, 15, 768])"
      ]
     },
     "execution_count": 12,
     "metadata": {},
     "output_type": "execute_result"
    }
   ],
   "source": [
    "# Nth hidden layer of BERT\n",
    "layer = 7\n",
    "bert_embeddings[2][layer].shape"
   ]
  }
 ],
 "metadata": {
  "kernelspec": {
   "display_name": "Python 3",
   "language": "python",
   "name": "python3"
  },
  "language_info": {
   "codemirror_mode": {
    "name": "ipython",
    "version": 3
   },
   "file_extension": ".py",
   "mimetype": "text/x-python",
   "name": "python",
   "nbconvert_exporter": "python",
   "pygments_lexer": "ipython3",
   "version": "3.6.8"
  }
 },
 "nbformat": 4,
 "nbformat_minor": 2
}
