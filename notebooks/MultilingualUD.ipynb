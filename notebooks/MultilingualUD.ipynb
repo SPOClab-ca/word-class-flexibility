{
 "cells": [
  {
   "cell_type": "markdown",
   "metadata": {},
   "source": [
    "# Multilingual UD\n",
    "\n",
    "Compute noun/verb frequency-based statistics for all languages in UD"
   ]
  },
  {
   "cell_type": "code",
   "execution_count": 1,
   "metadata": {},
   "outputs": [],
   "source": [
    "import glob\n",
    "import os\n",
    "from collections import defaultdict"
   ]
  },
  {
   "cell_type": "code",
   "execution_count": 2,
   "metadata": {},
   "outputs": [],
   "source": [
    "# Group all treebanks by language\n",
    "UD_PATH = '../data/ud_all/ud-treebanks-v2.5/'\n",
    "ud_files = defaultdict(list)\n",
    "\n",
    "for ud_corpus_name in os.listdir(UD_PATH):\n",
    "  language_name = ud_corpus_name[3:].split('-')[0].replace('_', ' ')\n",
    "  for conllu_file in glob.glob(UD_PATH + ud_corpus_name + '/*.conllu'):\n",
    "    #conllu_file_name = os.path.basename(conllu_file)\n",
    "    #language_code = conllu_file_name.split('_')[0]\n",
    "    ud_files[language_name].append(conllu_file)"
   ]
  },
  {
   "cell_type": "code",
   "execution_count": 3,
   "metadata": {},
   "outputs": [
    {
     "data": {
      "text/plain": [
       "['../data/ud_all/ud-treebanks-v2.5/UD_French-Sequoia/fr_sequoia-ud-test.conllu',\n",
       " '../data/ud_all/ud-treebanks-v2.5/UD_French-Sequoia/fr_sequoia-ud-dev.conllu',\n",
       " '../data/ud_all/ud-treebanks-v2.5/UD_French-Sequoia/fr_sequoia-ud-train.conllu',\n",
       " '../data/ud_all/ud-treebanks-v2.5/UD_French-FTB/fr_ftb-ud-test.conllu',\n",
       " '../data/ud_all/ud-treebanks-v2.5/UD_French-FTB/fr_ftb-ud-train.conllu',\n",
       " '../data/ud_all/ud-treebanks-v2.5/UD_French-FTB/fr_ftb-ud-dev.conllu',\n",
       " '../data/ud_all/ud-treebanks-v2.5/UD_French-Spoken/fr_spoken-ud-dev.conllu',\n",
       " '../data/ud_all/ud-treebanks-v2.5/UD_French-Spoken/fr_spoken-ud-test.conllu',\n",
       " '../data/ud_all/ud-treebanks-v2.5/UD_French-Spoken/fr_spoken-ud-train.conllu',\n",
       " '../data/ud_all/ud-treebanks-v2.5/UD_French-ParTUT/fr_partut-ud-dev.conllu',\n",
       " '../data/ud_all/ud-treebanks-v2.5/UD_French-ParTUT/fr_partut-ud-test.conllu',\n",
       " '../data/ud_all/ud-treebanks-v2.5/UD_French-ParTUT/fr_partut-ud-train.conllu',\n",
       " '../data/ud_all/ud-treebanks-v2.5/UD_French-PUD/fr_pud-ud-test.conllu',\n",
       " '../data/ud_all/ud-treebanks-v2.5/UD_French-GSD/fr_gsd-ud-dev.conllu',\n",
       " '../data/ud_all/ud-treebanks-v2.5/UD_French-GSD/fr_gsd-ud-train.conllu',\n",
       " '../data/ud_all/ud-treebanks-v2.5/UD_French-GSD/fr_gsd-ud-test.conllu',\n",
       " '../data/ud_all/ud-treebanks-v2.5/UD_French-FQB/fr_fqb-ud-test.conllu']"
      ]
     },
     "execution_count": 3,
     "metadata": {},
     "output_type": "execute_result"
    }
   ],
   "source": [
    "ud_files['French']"
   ]
  }
 ],
 "metadata": {
  "kernelspec": {
   "display_name": "Python 3",
   "language": "python",
   "name": "python3"
  },
  "language_info": {
   "codemirror_mode": {
    "name": "ipython",
    "version": 3
   },
   "file_extension": ".py",
   "mimetype": "text/x-python",
   "name": "python",
   "nbconvert_exporter": "python",
   "pygments_lexer": "ipython3",
   "version": "3.7.5"
  }
 },
 "nbformat": 4,
 "nbformat_minor": 4
}
