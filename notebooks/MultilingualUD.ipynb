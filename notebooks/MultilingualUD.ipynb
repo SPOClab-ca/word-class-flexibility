{
 "cells": [
  {
   "cell_type": "markdown",
   "metadata": {},
   "source": [
    "# Multilingual UD\n",
    "\n",
    "Compute noun/verb frequency-based statistics for all languages in UD"
   ]
  },
  {
   "cell_type": "code",
   "execution_count": 1,
   "metadata": {},
   "outputs": [],
   "source": [
    "import sys\n",
    "sys.path.append('../')\n",
    "\n",
    "from collections import defaultdict\n",
    "import pandas as pd\n",
    "import multiprocessing as mp\n",
    "\n",
    "import src.corpus\n",
    "\n",
    "%load_ext autoreload\n",
    "%autoreload 2"
   ]
  },
  {
   "cell_type": "code",
   "execution_count": 2,
   "metadata": {},
   "outputs": [
    {
     "data": {
      "text/plain": [
       "['../data/ud_all/ud-treebanks-v2.5/UD_French-Sequoia/fr_sequoia-ud-test.conllu',\n",
       " '../data/ud_all/ud-treebanks-v2.5/UD_French-Sequoia/fr_sequoia-ud-dev.conllu',\n",
       " '../data/ud_all/ud-treebanks-v2.5/UD_French-Sequoia/fr_sequoia-ud-train.conllu',\n",
       " '../data/ud_all/ud-treebanks-v2.5/UD_French-FTB/fr_ftb-ud-test.conllu',\n",
       " '../data/ud_all/ud-treebanks-v2.5/UD_French-FTB/fr_ftb-ud-train.conllu']"
      ]
     },
     "execution_count": 2,
     "metadata": {},
     "output_type": "execute_result"
    }
   ],
   "source": [
    "UD_PATH = '../data/ud_all/ud-treebanks-v2.5/'\n",
    "ud_files = src.corpus.group_treebanks_by_language(UD_PATH)\n",
    "ud_files['French'][:5]"
   ]
  },
  {
   "cell_type": "markdown",
   "metadata": {},
   "source": [
    "## All UD files in one language"
   ]
  },
  {
   "cell_type": "code",
   "execution_count": 3,
   "metadata": {},
   "outputs": [],
   "source": [
    "corpus = src.corpus.POSCorpus.create_from_ud(data_file_list=ud_files['French'])"
   ]
  },
  {
   "cell_type": "code",
   "execution_count": 4,
   "metadata": {},
   "outputs": [
    {
     "data": {
      "text/html": [
       "<div>\n",
       "<style scoped>\n",
       "    .dataframe tbody tr th:only-of-type {\n",
       "        vertical-align: middle;\n",
       "    }\n",
       "\n",
       "    .dataframe tbody tr th {\n",
       "        vertical-align: top;\n",
       "    }\n",
       "\n",
       "    .dataframe thead th {\n",
       "        text-align: right;\n",
       "    }\n",
       "</style>\n",
       "<table border=\"1\" class=\"dataframe\">\n",
       "  <thead>\n",
       "    <tr style=\"text-align: right;\">\n",
       "      <th></th>\n",
       "      <th>lemma</th>\n",
       "      <th>noun_count</th>\n",
       "      <th>verb_count</th>\n",
       "      <th>majority_tag</th>\n",
       "      <th>total_count</th>\n",
       "      <th>minority_count</th>\n",
       "      <th>minority_ratio</th>\n",
       "      <th>is_flexible</th>\n",
       "    </tr>\n",
       "  </thead>\n",
       "  <tbody>\n",
       "    <tr>\n",
       "      <th>90</th>\n",
       "      <td>avoir</td>\n",
       "      <td>97</td>\n",
       "      <td>1811</td>\n",
       "      <td>VERB</td>\n",
       "      <td>1908</td>\n",
       "      <td>97</td>\n",
       "      <td>0.050839</td>\n",
       "      <td>True</td>\n",
       "    </tr>\n",
       "    <tr>\n",
       "      <th>47</th>\n",
       "      <td>faire</td>\n",
       "      <td>259</td>\n",
       "      <td>1100</td>\n",
       "      <td>VERB</td>\n",
       "      <td>1359</td>\n",
       "      <td>259</td>\n",
       "      <td>0.190581</td>\n",
       "      <td>True</td>\n",
       "    </tr>\n",
       "    <tr>\n",
       "      <th>106</th>\n",
       "      <td>être</td>\n",
       "      <td>356</td>\n",
       "      <td>888</td>\n",
       "      <td>VERB</td>\n",
       "      <td>1244</td>\n",
       "      <td>356</td>\n",
       "      <td>0.286174</td>\n",
       "      <td>True</td>\n",
       "    </tr>\n",
       "    <tr>\n",
       "      <th>80</th>\n",
       "      <td>pouvoir</td>\n",
       "      <td>114</td>\n",
       "      <td>1046</td>\n",
       "      <td>VERB</td>\n",
       "      <td>1160</td>\n",
       "      <td>114</td>\n",
       "      <td>0.098276</td>\n",
       "      <td>True</td>\n",
       "    </tr>\n",
       "    <tr>\n",
       "      <th>62</th>\n",
       "      <td>partie</td>\n",
       "      <td>681</td>\n",
       "      <td>255</td>\n",
       "      <td>NOUN</td>\n",
       "      <td>936</td>\n",
       "      <td>255</td>\n",
       "      <td>0.272436</td>\n",
       "      <td>True</td>\n",
       "    </tr>\n",
       "    <tr>\n",
       "      <th>301</th>\n",
       "      <td>voir</td>\n",
       "      <td>123</td>\n",
       "      <td>615</td>\n",
       "      <td>VERB</td>\n",
       "      <td>738</td>\n",
       "      <td>123</td>\n",
       "      <td>0.166667</td>\n",
       "      <td>True</td>\n",
       "    </tr>\n",
       "    <tr>\n",
       "      <th>120</th>\n",
       "      <td>devoir</td>\n",
       "      <td>17</td>\n",
       "      <td>693</td>\n",
       "      <td>VERB</td>\n",
       "      <td>710</td>\n",
       "      <td>17</td>\n",
       "      <td>0.023944</td>\n",
       "      <td>False</td>\n",
       "    </tr>\n",
       "    <tr>\n",
       "      <th>46</th>\n",
       "      <td>monsieur</td>\n",
       "      <td>647</td>\n",
       "      <td>0</td>\n",
       "      <td>NOUN</td>\n",
       "      <td>647</td>\n",
       "      <td>0</td>\n",
       "      <td>0.000000</td>\n",
       "      <td>False</td>\n",
       "    </tr>\n",
       "    <tr>\n",
       "      <th>566</th>\n",
       "      <td>an</td>\n",
       "      <td>628</td>\n",
       "      <td>0</td>\n",
       "      <td>NOUN</td>\n",
       "      <td>628</td>\n",
       "      <td>0</td>\n",
       "      <td>0.000000</td>\n",
       "      <td>False</td>\n",
       "    </tr>\n",
       "    <tr>\n",
       "      <th>279</th>\n",
       "      <td>année</td>\n",
       "      <td>610</td>\n",
       "      <td>0</td>\n",
       "      <td>NOUN</td>\n",
       "      <td>610</td>\n",
       "      <td>0</td>\n",
       "      <td>0.000000</td>\n",
       "      <td>False</td>\n",
       "    </tr>\n",
       "  </tbody>\n",
       "</table>\n",
       "</div>"
      ],
      "text/plain": [
       "        lemma  noun_count  verb_count majority_tag  total_count  \\\n",
       "90      avoir          97        1811         VERB         1908   \n",
       "47      faire         259        1100         VERB         1359   \n",
       "106      être         356         888         VERB         1244   \n",
       "80    pouvoir         114        1046         VERB         1160   \n",
       "62     partie         681         255         NOUN          936   \n",
       "301      voir         123         615         VERB          738   \n",
       "120    devoir          17         693         VERB          710   \n",
       "46   monsieur         647           0         NOUN          647   \n",
       "566        an         628           0         NOUN          628   \n",
       "279     année         610           0         NOUN          610   \n",
       "\n",
       "     minority_count  minority_ratio  is_flexible  \n",
       "90               97        0.050839         True  \n",
       "47              259        0.190581         True  \n",
       "106             356        0.286174         True  \n",
       "80              114        0.098276         True  \n",
       "62              255        0.272436         True  \n",
       "301             123        0.166667         True  \n",
       "120              17        0.023944        False  \n",
       "46                0        0.000000        False  \n",
       "566               0        0.000000        False  \n",
       "279               0        0.000000        False  "
      ]
     },
     "execution_count": 4,
     "metadata": {},
     "output_type": "execute_result"
    }
   ],
   "source": [
    "lemma_count_df = corpus.get_lemma_stats_merge_method()\n",
    "lemma_count_df.sort_values('total_count', ascending=False).head(10)"
   ]
  },
  {
   "cell_type": "code",
   "execution_count": 5,
   "metadata": {},
   "outputs": [
    {
     "name": "stdout",
     "output_type": "stream",
     "text": [
      "Total tokens: 578670\n"
     ]
    }
   ],
   "source": [
    "total_tokens = sum([len(sentence) for sentence in corpus.sentences])\n",
    "print('Total tokens:', total_tokens)"
   ]
  },
  {
   "cell_type": "code",
   "execution_count": 6,
   "metadata": {},
   "outputs": [],
   "source": [
    "# Only consider lemmas with at least 10 usages\n",
    "lemma_count_df = lemma_count_df[lemma_count_df['total_count'] >= 10].sort_values('total_count', ascending=False)\n",
    "noun_lemmas = len(lemma_count_df[lemma_count_df['majority_tag'] == 'NOUN'])\n",
    "verb_lemmas = len(lemma_count_df[lemma_count_df['majority_tag'] == 'VERB'])\n",
    "noun_flexibility = len(lemma_count_df[(lemma_count_df['majority_tag'] == 'NOUN') & (lemma_count_df['is_flexible'])]) / noun_lemmas\n",
    "verb_flexibility = len(lemma_count_df[(lemma_count_df['majority_tag'] == 'VERB') & (lemma_count_df['is_flexible'])]) / verb_lemmas"
   ]
  },
  {
   "cell_type": "code",
   "execution_count": 7,
   "metadata": {},
   "outputs": [
    {
     "name": "stdout",
     "output_type": "stream",
     "text": [
      "Noun lemmas with >= 10 usages: 1844\n",
      "Verb lemmas with >= 10 usages: 649\n"
     ]
    }
   ],
   "source": [
    "print('Noun lemmas with >= 10 usages:', noun_lemmas)\n",
    "print('Verb lemmas with >= 10 usages:', verb_lemmas)"
   ]
  },
  {
   "cell_type": "code",
   "execution_count": 8,
   "metadata": {},
   "outputs": [
    {
     "name": "stdout",
     "output_type": "stream",
     "text": [
      "Noun Flexibility = P(flexible | noun): 0.06182212581344902\n",
      "Verb Flexibility = P(flexible | verb): 0.2573189522342065\n"
     ]
    }
   ],
   "source": [
    "print('Noun Flexibility = P(flexible | noun):', noun_flexibility)\n",
    "print('Verb Flexibility = P(flexible | verb):', verb_flexibility)"
   ]
  },
  {
   "cell_type": "markdown",
   "metadata": {},
   "source": [
    "## Loop over all languages"
   ]
  },
  {
   "cell_type": "code",
   "execution_count": null,
   "metadata": {},
   "outputs": [],
   "source": [
    "def process_ud_language(args):\n",
    "  language_name, language_ud_list = args\n",
    "  print('Processing:', language_name)\n",
    "  \n",
    "  corpus = src.corpus.POSCorpus.create_from_ud(data_file_list=ud_files[language_name])\n",
    "  if len(corpus.sentences) == 0: return None\n",
    "  total_tokens = sum([len(sentence) for sentence in corpus.sentences])\n",
    "  lemma_count_df = corpus.get_lemma_stats_merge_method()\n",
    "  lemma_count_df = lemma_count_df[lemma_count_df['total_count'] >= 10].sort_values('total_count', ascending=False)\n",
    "  noun_lemmas = len(lemma_count_df[lemma_count_df['majority_tag'] == 'NOUN'])\n",
    "  verb_lemmas = len(lemma_count_df[lemma_count_df['majority_tag'] == 'VERB'])\n",
    "  if noun_lemmas == 0 or verb_lemmas == 0: return None\n",
    "  noun_flexibility = len(lemma_count_df[(lemma_count_df['majority_tag'] == 'NOUN') & (lemma_count_df['is_flexible'])]) / noun_lemmas\n",
    "  verb_flexibility = len(lemma_count_df[(lemma_count_df['majority_tag'] == 'VERB') & (lemma_count_df['is_flexible'])]) / verb_lemmas\n",
    "  \n",
    "  return pd.Series({\n",
    "    'language': language_name,\n",
    "    'tokens': total_tokens,\n",
    "    'noun_lemmas': noun_lemmas,\n",
    "    'verb_lemmas': verb_lemmas,\n",
    "    'noun_flexibility': noun_flexibility,\n",
    "    'verb_flexibility': verb_flexibility,\n",
    "  })\n",
    "\n",
    "pool = mp.Pool()\n",
    "results = pool.map(process_ud_language, ud_files.items())\n",
    "results = [r for r in results if r is not None]\n",
    "all_language_stats = pd.DataFrame(results)"
   ]
  },
  {
   "cell_type": "code",
   "execution_count": null,
   "metadata": {},
   "outputs": [],
   "source": [
    "all_language_stats = all_language_stats.sort_values('tokens', ascending=False)\n",
    "all_language_stats"
   ]
  },
  {
   "cell_type": "code",
   "execution_count": null,
   "metadata": {},
   "outputs": [],
   "source": [
    "all_language_stats.to_csv('multi-language-ud.csv', index=False)"
   ]
  },
  {
   "cell_type": "code",
   "execution_count": null,
   "metadata": {},
   "outputs": [],
   "source": [
    "all_language_stats[(all_language_stats.noun_flexibility > 0.05) & (all_language_stats.verb_flexibility > 0.05)]"
   ]
  }
 ],
 "metadata": {
  "kernelspec": {
   "display_name": "Python 3",
   "language": "python",
   "name": "python3"
  },
  "language_info": {
   "codemirror_mode": {
    "name": "ipython",
    "version": 3
   },
   "file_extension": ".py",
   "mimetype": "text/x-python",
   "name": "python",
   "nbconvert_exporter": "python",
   "pygments_lexer": "ipython3",
   "version": "3.7.5"
  }
 },
 "nbformat": 4,
 "nbformat_minor": 4
}
