{
 "cells": [
  {
   "cell_type": "markdown",
   "metadata": {},
   "source": [
    "# Basic UD Part-of-speech Analysis\n",
    "\n",
    "Fairly basic analysis involving POS tags on some Universal Dependencies corpora"
   ]
  },
  {
   "cell_type": "code",
   "execution_count": 1,
   "metadata": {},
   "outputs": [],
   "source": [
    "import matplotlib.pyplot as plt\n",
    "from collections import defaultdict\n",
    "import conllu\n",
    "\n",
    "%matplotlib inline\n",
    "%load_ext autoreload\n",
    "%autoreload 2"
   ]
  },
  {
   "cell_type": "markdown",
   "metadata": {},
   "source": [
    "### Read the CoNLL-U file"
   ]
  },
  {
   "cell_type": "code",
   "execution_count": 2,
   "metadata": {},
   "outputs": [],
   "source": [
    "UD_FILE = \"../data/en_partut-ud-train.conllu\"\n",
    "\n",
    "with open(UD_FILE, \"r\", encoding=\"utf-8\") as data_file:\n",
    "  data = data_file.read()\n",
    "  data = conllu.parse(data)"
   ]
  },
  {
   "cell_type": "code",
   "execution_count": 3,
   "metadata": {},
   "outputs": [
    {
     "data": {
      "text/plain": [
       "[TokenList<Distribution, of, this, license, does, not, create, an, attorney, -, client, relationship, .>,\n",
       " TokenList<Creative, Commons, provides, this, information, on, an, \", as, -, is, \", basis, .>,\n",
       " TokenList<Creative, Commons, makes, no, warranties, regarding, the, information, provided, ,, and, disclaims, liability, for, damages, resulting, from, its, use, .>]"
      ]
     },
     "execution_count": 3,
     "metadata": {},
     "output_type": "execute_result"
    }
   ],
   "source": [
    "data[:3]"
   ]
  },
  {
   "cell_type": "markdown",
   "metadata": {},
   "source": [
    "## POS counts"
   ]
  },
  {
   "cell_type": "code",
   "execution_count": 4,
   "metadata": {},
   "outputs": [
    {
     "data": {
      "text/plain": [
       "defaultdict(int,\n",
       "            {'NOUN': 9249,\n",
       "             'ADP': 5213,\n",
       "             'DET': 4616,\n",
       "             'AUX': 2076,\n",
       "             'PART': 1168,\n",
       "             'VERB': 4125,\n",
       "             'PUNCT': 5105,\n",
       "             'PROPN': 2026,\n",
       "             'CCONJ': 1471,\n",
       "             'ADJ': 3408,\n",
       "             'ADV': 1659,\n",
       "             'PRON': 1790,\n",
       "             'NUM': 787,\n",
       "             'SCONJ': 628,\n",
       "             'X': 135,\n",
       "             'INTJ': 6,\n",
       "             '_': 27,\n",
       "             'SYM': 42})"
      ]
     },
     "execution_count": 4,
     "metadata": {},
     "output_type": "execute_result"
    }
   ],
   "source": [
    "pos_counts = defaultdict(int)\n",
    "\n",
    "for token_list in data:\n",
    "  for token in token_list:\n",
    "    pos_tag = token['upostag']\n",
    "    pos_counts[pos_tag] += 1\n",
    "\n",
    "pos_counts"
   ]
  },
  {
   "cell_type": "code",
   "execution_count": 5,
   "metadata": {},
   "outputs": [
    {
     "data": {
      "text/plain": [
       "<BarContainer object of 18 artists>"
      ]
     },
     "execution_count": 5,
     "metadata": {},
     "output_type": "execute_result"
    },
    {
     "data": {
      "image/png": "[encoded data removed]",
      "text/plain": [
       "<Figure size 864x432 with 1 Axes>"
      ]
     },
     "metadata": {
      "needs_background": "light"
     },
     "output_type": "display_data"
    }
   ],
   "source": [
    "plt.figure(figsize=(12, 6))\n",
    "plt.bar(pos_counts.keys(), pos_counts.values())"
   ]
  }
 ],
 "metadata": {
  "kernelspec": {
   "display_name": "Python 3",
   "language": "python",
   "name": "python3"
  },
  "language_info": {
   "codemirror_mode": {
    "name": "ipython",
    "version": 3
   },
   "file_extension": ".py",
   "mimetype": "text/x-python",
   "name": "python",
   "nbconvert_exporter": "python",
   "pygments_lexer": "ipython3",
   "version": "3.6.8"
  }
 },
 "nbformat": 4,
 "nbformat_minor": 2
}
