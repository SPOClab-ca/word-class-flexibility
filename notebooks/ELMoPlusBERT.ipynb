{
 "cells": [
  {
   "cell_type": "markdown",
   "metadata": {},
   "source": [
    "# ELMo and BERT Contextual Embeddings\n",
    "\n",
    "In this notebook, we use contextual embeddings from ELMo/BERT to study semantic change of conversion."
   ]
  },
  {
   "cell_type": "code",
   "execution_count": 1,
   "metadata": {},
   "outputs": [],
   "source": [
    "import sys\n",
    "sys.path.append('../')\n",
    "\n",
    "import numpy as np\n",
    "import pandas as pd\n",
    "import matplotlib.pyplot as plt\n",
    "import seaborn as sns\n",
    "import sklearn.decomposition\n",
    "import random\n",
    "import scipy.stats\n",
    "\n",
    "import src.corpus\n",
    "import src.semantic_embedding\n",
    "\n",
    "%matplotlib inline\n",
    "%load_ext autoreload\n",
    "%autoreload 2"
   ]
  },
  {
   "cell_type": "markdown",
   "metadata": {},
   "source": [
    "### Parse the corpus"
   ]
  },
  {
   "cell_type": "code",
   "execution_count": 2,
   "metadata": {},
   "outputs": [],
   "source": [
    "#UD_PATH = '../data/ud_all/ud-treebanks-v2.5/'\n",
    "#ud_files = src.corpus.group_treebanks_by_language(UD_PATH)\n",
    "#corpus = src.corpus.POSCorpus.create_from_ud(data_file_list=ud_files['English'])\n",
    "\n",
    "BNC_FILE = \"../data/bnc/bnc.pkl\"\n",
    "corpus = src.corpus.POSCorpus.create_from_bnc_pickled(data_file_path=BNC_FILE)"
   ]
  },
  {
   "cell_type": "markdown",
   "metadata": {},
   "source": [
    "## Compute embeddings on random part of the corpus"
   ]
  },
  {
   "cell_type": "code",
   "execution_count": 3,
   "metadata": {},
   "outputs": [],
   "source": [
    "# Take only 1M words out of 4M to make it run faster\n",
    "SAMPLE_PROPORTION = 1.0\n",
    "random.seed(12345)\n",
    "random_indices = random.sample(range(len(corpus.sentences)), int(SAMPLE_PROPORTION * len(corpus.sentences)))\n",
    "\n",
    "sampled_sentences = []\n",
    "for ix in random_indices:\n",
    "  sampled_sentences.append(corpus.sentences[ix])\n",
    "  \n",
    "embedder = src.semantic_embedding.SemanticEmbedding(sampled_sentences)\n",
    "embedder.init_bert(model_name='xlm-roberta-base', layer=12)"
   ]
  },
  {
   "cell_type": "markdown",
   "metadata": {},
   "source": [
    "## Compute embeddings of instances of a fixed lemma"
   ]
  },
  {
   "cell_type": "code",
   "execution_count": 7,
   "metadata": {},
   "outputs": [
    {
     "name": "stdout",
     "output_type": "stream",
     "text": [
      "Processing lemma: train (304 instances)\n",
      "Noun instances: 212\n",
      "Verb instances: 91\n"
     ]
    }
   ],
   "source": [
    "FIXED_LEMMA = \"train\"\n",
    "noun_embeddings, verb_embeddings, noun_indices, verb_indices = embedder.get_bert_embeddings_for_lemma(FIXED_LEMMA)\n",
    "print(\"Noun instances:\", noun_embeddings.shape[0])\n",
    "print(\"Verb instances:\", verb_embeddings.shape[0])"
   ]
  },
  {
   "cell_type": "markdown",
   "metadata": {},
   "source": [
    "## Apply PCA and plot"
   ]
  },
  {
   "cell_type": "code",
   "execution_count": 8,
   "metadata": {},
   "outputs": [],
   "source": [
    "pca = sklearn.decomposition.PCA(n_components=2)\n",
    "all_embeddings = pca.fit_transform(np.vstack([noun_embeddings, verb_embeddings]))\n",
    "all_embeddings_df = pd.DataFrame({'x0': all_embeddings[:,0], 'x1': all_embeddings[:,1]})\n",
    "all_embeddings_df['pos'] = ['noun'] * len(noun_embeddings) + ['verb'] * len(verb_embeddings)\n",
    "all_embeddings_df['sentence_ix'] = noun_indices + verb_indices"
   ]
  },
  {
   "cell_type": "code",
   "execution_count": 9,
   "metadata": {},
   "outputs": [
    {
     "data": {
      "image/png": "[encoded data removed]",
      "text/plain": [
       "<Figure size 432x288 with 1 Axes>"
      ]
     },
     "metadata": {
      "needs_background": "light"
     },
     "output_type": "display_data"
    }
   ],
   "source": [
    "plot = sns.scatterplot(data=all_embeddings_df.sample(frac=1), x='x0', y='x1', hue='pos')\n",
    "plot.set(title=\"Contextual embeddings for lemma: '%s'\" % FIXED_LEMMA)\n",
    "plt.show()"
   ]
  },
  {
   "cell_type": "markdown",
   "metadata": {},
   "source": [
    "## Utility to inspect what it's capturing"
   ]
  },
  {
   "cell_type": "code",
   "execution_count": 11,
   "metadata": {},
   "outputs": [
    {
     "name": "stdout",
     "output_type": "stream",
     "text": [
      "POS=noun; Train of Wars .\n"
     ]
    }
   ],
   "source": [
    "num_printed = 0\n",
    "for _, row in all_embeddings_df.iterrows():\n",
    "  if row.x0 > 14: # <- Put whatever condition here\n",
    "    sent = sampled_sentences[row.sentence_ix]\n",
    "    print(\"POS=\" + row.pos + \";\", ' '.join([t['word'] for t in sent]))\n",
    "    num_printed += 1\n",
    "  if num_printed > 10:\n",
    "    break"
   ]
  },
  {
   "cell_type": "markdown",
   "metadata": {},
   "source": [
    "## Cosine similarity between noun and verb usages"
   ]
  },
  {
   "cell_type": "code",
   "execution_count": 7,
   "metadata": {},
   "outputs": [
    {
     "name": "stdout",
     "output_type": "stream",
     "text": [
      "Remaining lemmas: 320\n",
      "Noun lemmas: 172\n",
      "Verb lemmas: 148\n"
     ]
    }
   ],
   "source": [
    "lemma_count_df = corpus.get_per_lemma_stats()\n",
    "\n",
    "# Filter: must have at least [x] noun and [x] verb usages\n",
    "lemma_count_df = lemma_count_df[(lemma_count_df['noun_count'] >= 30) & (lemma_count_df['verb_count'] >= 30)]\n",
    "lemma_count_df = lemma_count_df.sort_values('total_count', ascending=False)\n",
    "#lemma_count_df = lemma_count_df[~lemma_count_df.lemma.isin(['go', 'will', 'may'])]\n",
    "print('Remaining lemmas:', len(lemma_count_df))\n",
    "print('Noun lemmas:', len(lemma_count_df[lemma_count_df.majority_tag == 'NOUN']))\n",
    "print('Verb lemmas:', len(lemma_count_df[lemma_count_df.majority_tag == 'VERB']))"
   ]
  },
  {
   "cell_type": "code",
   "execution_count": null,
   "metadata": {},
   "outputs": [],
   "source": [
    "lemma_count_df[['nv_cosine_similarity', 'n_variation', 'v_variation']] = \\\n",
    "  lemma_count_df.apply(lambda row: embedder.get_contextual_nv_similarity(row.lemma, method=\"bert\"),\n",
    "                       axis=1, result_type=\"expand\")"
   ]
  },
  {
   "cell_type": "code",
   "execution_count": 9,
   "metadata": {},
   "outputs": [
    {
     "data": {
      "text/html": [
       "<div>\n",
       "<style scoped>\n",
       "    .dataframe tbody tr th:only-of-type {\n",
       "        vertical-align: middle;\n",
       "    }\n",
       "\n",
       "    .dataframe tbody tr th {\n",
       "        vertical-align: top;\n",
       "    }\n",
       "\n",
       "    .dataframe thead th {\n",
       "        text-align: right;\n",
       "    }\n",
       "</style>\n",
       "<table border=\"1\" class=\"dataframe\">\n",
       "  <thead>\n",
       "    <tr style=\"text-align: right;\">\n",
       "      <th></th>\n",
       "      <th>lemma</th>\n",
       "      <th>noun_count</th>\n",
       "      <th>verb_count</th>\n",
       "      <th>majority_tag</th>\n",
       "      <th>nv_cosine_similarity</th>\n",
       "      <th>n_variation</th>\n",
       "      <th>v_variation</th>\n",
       "    </tr>\n",
       "  </thead>\n",
       "  <tbody>\n",
       "    <tr>\n",
       "      <th>4741</th>\n",
       "      <td>excuse</td>\n",
       "      <td>64</td>\n",
       "      <td>115</td>\n",
       "      <td>VERB</td>\n",
       "      <td>0.902674</td>\n",
       "      <td>2.110422</td>\n",
       "      <td>8.046687</td>\n",
       "    </tr>\n",
       "    <tr>\n",
       "      <th>2043</th>\n",
       "      <td>grant</td>\n",
       "      <td>108</td>\n",
       "      <td>87</td>\n",
       "      <td>NOUN</td>\n",
       "      <td>0.972677</td>\n",
       "      <td>6.938888</td>\n",
       "      <td>3.544248</td>\n",
       "    </tr>\n",
       "    <tr>\n",
       "      <th>11669</th>\n",
       "      <td>sue</td>\n",
       "      <td>39</td>\n",
       "      <td>66</td>\n",
       "      <td>VERB</td>\n",
       "      <td>0.979860</td>\n",
       "      <td>4.533002</td>\n",
       "      <td>2.139741</td>\n",
       "    </tr>\n",
       "    <tr>\n",
       "      <th>194</th>\n",
       "      <td>mind</td>\n",
       "      <td>736</td>\n",
       "      <td>620</td>\n",
       "      <td>NOUN</td>\n",
       "      <td>0.981725</td>\n",
       "      <td>1.830316</td>\n",
       "      <td>4.838988</td>\n",
       "    </tr>\n",
       "    <tr>\n",
       "      <th>72</th>\n",
       "      <td>part</td>\n",
       "      <td>1283</td>\n",
       "      <td>41</td>\n",
       "      <td>NOUN</td>\n",
       "      <td>0.984088</td>\n",
       "      <td>2.610144</td>\n",
       "      <td>2.661686</td>\n",
       "    </tr>\n",
       "    <tr>\n",
       "      <th>9025</th>\n",
       "      <td>row</td>\n",
       "      <td>326</td>\n",
       "      <td>47</td>\n",
       "      <td>NOUN</td>\n",
       "      <td>0.984933</td>\n",
       "      <td>2.084763</td>\n",
       "      <td>4.742203</td>\n",
       "    </tr>\n",
       "    <tr>\n",
       "      <th>1630</th>\n",
       "      <td>mark</td>\n",
       "      <td>562</td>\n",
       "      <td>198</td>\n",
       "      <td>NOUN</td>\n",
       "      <td>0.985929</td>\n",
       "      <td>6.456800</td>\n",
       "      <td>3.088658</td>\n",
       "    </tr>\n",
       "    <tr>\n",
       "      <th>1914</th>\n",
       "      <td>term</td>\n",
       "      <td>1063</td>\n",
       "      <td>40</td>\n",
       "      <td>NOUN</td>\n",
       "      <td>0.986137</td>\n",
       "      <td>2.243194</td>\n",
       "      <td>2.495466</td>\n",
       "    </tr>\n",
       "  </tbody>\n",
       "</table>\n",
       "</div>"
      ],
      "text/plain": [
       "        lemma  noun_count  verb_count majority_tag  nv_cosine_similarity  \\\n",
       "4741   excuse          64         115         VERB              0.902674   \n",
       "2043    grant         108          87         NOUN              0.972677   \n",
       "11669     sue          39          66         VERB              0.979860   \n",
       "194      mind         736         620         NOUN              0.981725   \n",
       "72       part        1283          41         NOUN              0.984088   \n",
       "9025      row         326          47         NOUN              0.984933   \n",
       "1630     mark         562         198         NOUN              0.985929   \n",
       "1914     term        1063          40         NOUN              0.986137   \n",
       "\n",
       "       n_variation  v_variation  \n",
       "4741      2.110422     8.046687  \n",
       "2043      6.938888     3.544248  \n",
       "11669     4.533002     2.139741  \n",
       "194       1.830316     4.838988  \n",
       "72        2.610144     2.661686  \n",
       "9025      2.084763     4.742203  \n",
       "1630      6.456800     3.088658  \n",
       "1914      2.243194     2.495466  "
      ]
     },
     "execution_count": 9,
     "metadata": {},
     "output_type": "execute_result"
    }
   ],
   "source": [
    "lemma_count_df[['lemma', 'noun_count', 'verb_count', 'majority_tag', 'nv_cosine_similarity', 'n_variation', 'v_variation']] \\\n",
    "  .sort_values('nv_cosine_similarity').head(8)"
   ]
  },
  {
   "cell_type": "code",
   "execution_count": 10,
   "metadata": {},
   "outputs": [
    {
     "data": {
      "text/html": [
       "<div>\n",
       "<style scoped>\n",
       "    .dataframe tbody tr th:only-of-type {\n",
       "        vertical-align: middle;\n",
       "    }\n",
       "\n",
       "    .dataframe tbody tr th {\n",
       "        vertical-align: top;\n",
       "    }\n",
       "\n",
       "    .dataframe thead th {\n",
       "        text-align: right;\n",
       "    }\n",
       "</style>\n",
       "<table border=\"1\" class=\"dataframe\">\n",
       "  <thead>\n",
       "    <tr style=\"text-align: right;\">\n",
       "      <th></th>\n",
       "      <th>lemma</th>\n",
       "      <th>noun_count</th>\n",
       "      <th>verb_count</th>\n",
       "      <th>majority_tag</th>\n",
       "      <th>nv_cosine_similarity</th>\n",
       "      <th>n_variation</th>\n",
       "      <th>v_variation</th>\n",
       "    </tr>\n",
       "  </thead>\n",
       "  <tbody>\n",
       "    <tr>\n",
       "      <th>1279</th>\n",
       "      <td>access</td>\n",
       "      <td>247</td>\n",
       "      <td>43</td>\n",
       "      <td>NOUN</td>\n",
       "      <td>0.998903</td>\n",
       "      <td>1.640107</td>\n",
       "      <td>1.510643</td>\n",
       "    </tr>\n",
       "    <tr>\n",
       "      <th>1617</th>\n",
       "      <td>control</td>\n",
       "      <td>519</td>\n",
       "      <td>179</td>\n",
       "      <td>NOUN</td>\n",
       "      <td>0.998878</td>\n",
       "      <td>1.841298</td>\n",
       "      <td>1.970525</td>\n",
       "    </tr>\n",
       "    <tr>\n",
       "      <th>4719</th>\n",
       "      <td>murder</td>\n",
       "      <td>296</td>\n",
       "      <td>62</td>\n",
       "      <td>NOUN</td>\n",
       "      <td>0.998837</td>\n",
       "      <td>1.865760</td>\n",
       "      <td>1.947399</td>\n",
       "    </tr>\n",
       "    <tr>\n",
       "      <th>6533</th>\n",
       "      <td>check</td>\n",
       "      <td>49</td>\n",
       "      <td>321</td>\n",
       "      <td>VERB</td>\n",
       "      <td>0.998836</td>\n",
       "      <td>2.053069</td>\n",
       "      <td>1.845442</td>\n",
       "    </tr>\n",
       "    <tr>\n",
       "      <th>1909</th>\n",
       "      <td>interview</td>\n",
       "      <td>185</td>\n",
       "      <td>63</td>\n",
       "      <td>NOUN</td>\n",
       "      <td>0.998789</td>\n",
       "      <td>1.840308</td>\n",
       "      <td>1.501519</td>\n",
       "    </tr>\n",
       "    <tr>\n",
       "      <th>188</th>\n",
       "      <td>paint</td>\n",
       "      <td>73</td>\n",
       "      <td>145</td>\n",
       "      <td>VERB</td>\n",
       "      <td>0.998737</td>\n",
       "      <td>1.709669</td>\n",
       "      <td>1.778917</td>\n",
       "    </tr>\n",
       "    <tr>\n",
       "      <th>2008</th>\n",
       "      <td>equal</td>\n",
       "      <td>47</td>\n",
       "      <td>38</td>\n",
       "      <td>NOUN</td>\n",
       "      <td>0.998702</td>\n",
       "      <td>2.041671</td>\n",
       "      <td>2.281623</td>\n",
       "    </tr>\n",
       "    <tr>\n",
       "      <th>119</th>\n",
       "      <td>attempt</td>\n",
       "      <td>302</td>\n",
       "      <td>214</td>\n",
       "      <td>NOUN</td>\n",
       "      <td>0.998680</td>\n",
       "      <td>1.889964</td>\n",
       "      <td>1.755515</td>\n",
       "    </tr>\n",
       "  </tbody>\n",
       "</table>\n",
       "</div>"
      ],
      "text/plain": [
       "          lemma  noun_count  verb_count majority_tag  nv_cosine_similarity  \\\n",
       "1279     access         247          43         NOUN              0.998903   \n",
       "1617    control         519         179         NOUN              0.998878   \n",
       "4719     murder         296          62         NOUN              0.998837   \n",
       "6533      check          49         321         VERB              0.998836   \n",
       "1909  interview         185          63         NOUN              0.998789   \n",
       "188       paint          73         145         VERB              0.998737   \n",
       "2008      equal          47          38         NOUN              0.998702   \n",
       "119     attempt         302         214         NOUN              0.998680   \n",
       "\n",
       "      n_variation  v_variation  \n",
       "1279     1.640107     1.510643  \n",
       "1617     1.841298     1.970525  \n",
       "4719     1.865760     1.947399  \n",
       "6533     2.053069     1.845442  \n",
       "1909     1.840308     1.501519  \n",
       "188      1.709669     1.778917  \n",
       "2008     2.041671     2.281623  \n",
       "119      1.889964     1.755515  "
      ]
     },
     "execution_count": 10,
     "metadata": {},
     "output_type": "execute_result"
    }
   ],
   "source": [
    "lemma_count_df[['lemma', 'noun_count', 'verb_count', 'majority_tag', 'nv_cosine_similarity', 'n_variation', 'v_variation']] \\\n",
    "  .sort_values('nv_cosine_similarity', ascending=False).head(8)"
   ]
  },
  {
   "cell_type": "markdown",
   "metadata": {},
   "source": [
    "## Difference in similarity when base is noun vs verb"
   ]
  },
  {
   "cell_type": "code",
   "execution_count": 11,
   "metadata": {},
   "outputs": [
    {
     "name": "stderr",
     "output_type": "stream",
     "text": [
      "/h/bai/moar/bai-conda/lib/python3.7/site-packages/scipy/stats/stats.py:1713: FutureWarning: Using a non-tuple sequence for multidimensional indexing is deprecated; use `arr[tuple(seq)]` instead of `arr[seq]`. In the future this will be interpreted as an array index, `arr[np.array(seq)]`, which will result either in an error or a different result.\n",
      "  return np.add.reduce(sorted[indexer] * weights, axis=axis) / sumval\n"
     ]
    },
    {
     "data": {
      "image/png": "[encoded data removed]",
      "text/plain": [
       "<Figure size 432x288 with 1 Axes>"
      ]
     },
     "metadata": {
      "needs_background": "light"
     },
     "output_type": "display_data"
    }
   ],
   "source": [
    "plot = sns.distplot(lemma_count_df[lemma_count_df.majority_tag == 'NOUN'].nv_cosine_similarity, label='Base=N')\n",
    "plot = sns.distplot(lemma_count_df[lemma_count_df.majority_tag == 'VERB'].nv_cosine_similarity, label='Base=V')\n",
    "plt.legend()\n",
    "plot.set(title=\"Average Cosine Similarity between Noun/Verb Usage\",\n",
    "         xlabel=\"Cosine Similarity\", ylabel=\"Count\")\n",
    "plt.show()"
   ]
  },
  {
   "cell_type": "code",
   "execution_count": 12,
   "metadata": {},
   "outputs": [
    {
     "name": "stdout",
     "output_type": "stream",
     "text": [
      "Mean cosine similarity when Base=N: 0.9955181638861812\n",
      "Mean cosine similarity when Base=V: 0.9954905441483936\n"
     ]
    }
   ],
   "source": [
    "print('Mean cosine similarity when Base=N:', np.mean(lemma_count_df[lemma_count_df.majority_tag == 'NOUN'].nv_cosine_similarity))\n",
    "print('Mean cosine similarity when Base=V:', np.mean(lemma_count_df[lemma_count_df.majority_tag == 'VERB'].nv_cosine_similarity))"
   ]
  },
  {
   "cell_type": "code",
   "execution_count": 13,
   "metadata": {},
   "outputs": [
    {
     "data": {
      "text/plain": [
       "Ttest_indResult(statistic=0.040916347542516156, pvalue=0.9673882617201648)"
      ]
     },
     "execution_count": 13,
     "metadata": {},
     "output_type": "execute_result"
    }
   ],
   "source": [
    "# T-test of difference in mean\n",
    "scipy.stats.ttest_ind(lemma_count_df[lemma_count_df.majority_tag == 'NOUN'].nv_cosine_similarity,\n",
    "                      lemma_count_df[lemma_count_df.majority_tag == 'VERB'].nv_cosine_similarity)"
   ]
  },
  {
   "cell_type": "markdown",
   "metadata": {},
   "source": [
    "## Difference in variation between majority and minority class"
   ]
  },
  {
   "cell_type": "code",
   "execution_count": 14,
   "metadata": {},
   "outputs": [
    {
     "data": {
      "image/png": "[encoded data removed]",
      "text/plain": [
       "<Figure size 432x288 with 1 Axes>"
      ]
     },
     "metadata": {
      "needs_background": "light"
     },
     "output_type": "display_data"
    }
   ],
   "source": [
    "majority_variation = np.where(lemma_count_df.majority_tag == 'NOUN', lemma_count_df.n_variation, lemma_count_df.v_variation)\n",
    "minority_variation = np.where(lemma_count_df.majority_tag == 'NOUN', lemma_count_df.v_variation, lemma_count_df.n_variation)\n",
    "plot = sns.distplot(majority_variation, label='Majority')\n",
    "plot = sns.distplot(minority_variation, label='Minority')\n",
    "plt.legend()\n",
    "plot.set(title=\"Semantic variation within majority and minority POS class\",\n",
    "         xlabel=\"Standard deviation\", ylabel=\"Density\")\n",
    "plt.show()"
   ]
  },
  {
   "cell_type": "code",
   "execution_count": 15,
   "metadata": {},
   "outputs": [
    {
     "name": "stdout",
     "output_type": "stream",
     "text": [
      "Mean majority variation: 2.228868241235614\n",
      "Mean minority variation: 2.1700905080884696\n"
     ]
    }
   ],
   "source": [
    "print('Mean majority variation:', np.mean(majority_variation))\n",
    "print('Mean minority variation:', np.mean(minority_variation))"
   ]
  },
  {
   "cell_type": "code",
   "execution_count": 16,
   "metadata": {},
   "outputs": [
    {
     "data": {
      "text/plain": [
       "Ttest_relResult(statistic=1.094954584702522, pvalue=0.2743625603073653)"
      ]
     },
     "execution_count": 16,
     "metadata": {},
     "output_type": "execute_result"
    }
   ],
   "source": [
    "# Paired t-test for difference\n",
    "scipy.stats.ttest_rel(majority_variation, minority_variation)"
   ]
  }
 ],
 "metadata": {
  "kernelspec": {
   "display_name": "Python 3",
   "language": "python",
   "name": "python3"
  },
  "language_info": {
   "codemirror_mode": {
    "name": "ipython",
    "version": 3
   },
   "file_extension": ".py",
   "mimetype": "text/x-python",
   "name": "python",
   "nbconvert_exporter": "python",
   "pygments_lexer": "ipython3",
   "version": "3.7.5"
  }
 },
 "nbformat": 4,
 "nbformat_minor": 4
}
