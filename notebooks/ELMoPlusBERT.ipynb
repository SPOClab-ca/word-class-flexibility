{
 "cells": [
  {
   "cell_type": "markdown",
   "metadata": {},
   "source": [
    "# ELMo and BERT Contextual Embeddings\n",
    "\n",
    "In this notebook, we use contextual embeddings from ELMo/BERT to study semantic change of conversion."
   ]
  },
  {
   "cell_type": "code",
   "execution_count": 1,
   "metadata": {},
   "outputs": [],
   "source": [
    "import sys\n",
    "sys.path.append('../')\n",
    "\n",
    "import numpy as np\n",
    "import pandas as pd\n",
    "import matplotlib.pyplot as plt\n",
    "import seaborn as sns\n",
    "import sklearn.decomposition\n",
    "import random\n",
    "import scipy.stats\n",
    "\n",
    "import src.corpus\n",
    "import src.semantic_embedding\n",
    "\n",
    "%matplotlib inline\n",
    "%load_ext autoreload\n",
    "%autoreload 2"
   ]
  },
  {
   "cell_type": "markdown",
   "metadata": {},
   "source": [
    "## Parse the corpus"
   ]
  },
  {
   "cell_type": "code",
   "execution_count": 2,
   "metadata": {},
   "outputs": [],
   "source": [
    "UD_PATH = '../data/ud_all/ud-treebanks-v2.5/'\n",
    "ud_files = src.corpus.group_treebanks_by_language(UD_PATH)\n",
    "corpus = src.corpus.POSCorpus.create_from_ud(data_file_list=ud_files['English'])\n",
    "\n",
    "#BNC_FILE = \"../data/bnc/bnc.pkl\"\n",
    "#corpus = src.corpus.POSCorpus.create_from_bnc_pickled(data_file_path=BNC_FILE)"
   ]
  },
  {
   "cell_type": "markdown",
   "metadata": {},
   "source": [
    "## Compute embeddings on random part of the corpus"
   ]
  },
  {
   "cell_type": "code",
   "execution_count": 3,
   "metadata": {},
   "outputs": [],
   "source": [
    "# Take only 1M words out of 4M to make it run faster\n",
    "SAMPLE_PROPORTION = 1.0\n",
    "random.seed(12345)\n",
    "random_indices = random.sample(range(len(corpus.sentences)), int(SAMPLE_PROPORTION * len(corpus.sentences)))\n",
    "\n",
    "sampled_sentences = []\n",
    "for ix in random_indices:\n",
    "  sampled_sentences.append(corpus.sentences[ix])\n",
    "  \n",
    "embedder = src.semantic_embedding.SemanticEmbedding(sampled_sentences)\n",
    "embedder.init_bert(model_name='bert-base-multilingual-cased', layer=12)"
   ]
  },
  {
   "cell_type": "markdown",
   "metadata": {},
   "source": [
    "## Compute embeddings of instances of a fixed lemma"
   ]
  },
  {
   "cell_type": "code",
   "execution_count": 4,
   "metadata": {},
   "outputs": [
    {
     "name": "stdout",
     "output_type": "stream",
     "text": [
      "Processing lemma: store (108 instances)\n",
      "Noun instances: 91\n",
      "Verb instances: 15\n"
     ]
    }
   ],
   "source": [
    "FIXED_LEMMA = \"store\"\n",
    "noun_embeddings, verb_embeddings = embedder.get_bert_embeddings_for_lemma(FIXED_LEMMA)\n",
    "print(\"Noun instances:\", noun_embeddings.shape[0])\n",
    "print(\"Verb instances:\", verb_embeddings.shape[0])"
   ]
  },
  {
   "cell_type": "markdown",
   "metadata": {},
   "source": [
    "## Apply PCA and plot"
   ]
  },
  {
   "cell_type": "code",
   "execution_count": 5,
   "metadata": {},
   "outputs": [],
   "source": [
    "pca = sklearn.decomposition.PCA(n_components=2)\n",
    "all_embeddings = pca.fit_transform(np.vstack([noun_embeddings, verb_embeddings]))\n",
    "all_embeddings_df = pd.DataFrame({'x0': all_embeddings[:,0], 'x1': all_embeddings[:,1]})\n",
    "all_embeddings_df['pos'] = ['noun'] * len(noun_embeddings) + ['verb'] * len(verb_embeddings)"
   ]
  },
  {
   "cell_type": "code",
   "execution_count": 6,
   "metadata": {},
   "outputs": [
    {
     "data": {
      "image/png": "[encoded data removed]",
      "text/plain": [
       "<Figure size 432x288 with 1 Axes>"
      ]
     },
     "metadata": {
      "needs_background": "light"
     },
     "output_type": "display_data"
    }
   ],
   "source": [
    "plot = sns.scatterplot(data=all_embeddings_df, x='x0', y='x1', hue='pos')\n",
    "plot.set(title=\"Contextual embeddings for lemma: '%s'\" % FIXED_LEMMA)\n",
    "plt.show()"
   ]
  },
  {
   "cell_type": "markdown",
   "metadata": {},
   "source": [
    "## Utility to inspect what it's capturing"
   ]
  },
  {
   "cell_type": "raw",
   "metadata": {},
   "source": [
    "num_printed = 0\n",
    "for sentence_ix in range(len(sampled_sentences)):\n",
    "  token_list = sampled_sentences[sentence_ix]\n",
    "  embeddings = embedder.bert_embeddings[sentence_ix]\n",
    "  for i in range(len(token_list)):\n",
    "    if token_list[i]['lemma'] == FIXED_LEMMA:\n",
    "      v = pca.transform(embeddings[i][np.newaxis, :])[0]\n",
    "      if 1 < v[0] < 2: # <- Put whatever condition here\n",
    "        print(v)\n",
    "        print(' '.join([t['word'] for t in token_list]))\n",
    "        print()\n",
    "        num_printed += 1\n",
    "  if num_printed > 10:\n",
    "    break"
   ]
  },
  {
   "cell_type": "markdown",
   "metadata": {},
   "source": [
    "## Cosine similarity between noun and verb usages"
   ]
  },
  {
   "cell_type": "code",
   "execution_count": 7,
   "metadata": {},
   "outputs": [
    {
     "name": "stdout",
     "output_type": "stream",
     "text": [
      "Remaining lemmas: 65\n",
      "Noun lemmas: 35\n",
      "Verb lemmas: 30\n"
     ]
    }
   ],
   "source": [
    "lemma_count_df = corpus.get_per_lemma_stats()\n",
    "\n",
    "# Filter: must have at least [x] noun and [x] verb usages\n",
    "lemma_count_df = lemma_count_df[(lemma_count_df['noun_count'] >= 30) & (lemma_count_df['verb_count'] >= 30)]\n",
    "lemma_count_df = lemma_count_df.sort_values('total_count', ascending=False)\n",
    "#lemma_count_df = lemma_count_df[~lemma_count_df.lemma.isin(['go', 'will', 'may'])]\n",
    "print('Remaining lemmas:', len(lemma_count_df))\n",
    "print('Noun lemmas:', len(lemma_count_df[lemma_count_df.majority_tag == 'NOUN']))\n",
    "print('Verb lemmas:', len(lemma_count_df[lemma_count_df.majority_tag == 'VERB']))"
   ]
  },
  {
   "cell_type": "code",
   "execution_count": null,
   "metadata": {},
   "outputs": [],
   "source": [
    "lemma_count_df[['nv_cosine_similarity', 'n_variation', 'v_variation']] = \\\n",
    "  lemma_count_df.apply(lambda row: embedder.get_contextual_nv_similarity(row.lemma, method=\"bert\"),\n",
    "                       axis=1, result_type=\"expand\")"
   ]
  },
  {
   "cell_type": "code",
   "execution_count": 9,
   "metadata": {},
   "outputs": [
    {
     "data": {
      "text/html": [
       "<div>\n",
       "<style scoped>\n",
       "    .dataframe tbody tr th:only-of-type {\n",
       "        vertical-align: middle;\n",
       "    }\n",
       "\n",
       "    .dataframe tbody tr th {\n",
       "        vertical-align: top;\n",
       "    }\n",
       "\n",
       "    .dataframe thead th {\n",
       "        text-align: right;\n",
       "    }\n",
       "</style>\n",
       "<table border=\"1\" class=\"dataframe\">\n",
       "  <thead>\n",
       "    <tr style=\"text-align: right;\">\n",
       "      <th></th>\n",
       "      <th>lemma</th>\n",
       "      <th>noun_count</th>\n",
       "      <th>verb_count</th>\n",
       "      <th>majority_tag</th>\n",
       "      <th>nv_cosine_similarity</th>\n",
       "      <th>n_variation</th>\n",
       "      <th>v_variation</th>\n",
       "    </tr>\n",
       "  </thead>\n",
       "  <tbody>\n",
       "    <tr>\n",
       "      <th>3708</th>\n",
       "      <td>issue</td>\n",
       "      <td>171</td>\n",
       "      <td>32</td>\n",
       "      <td>NOUN</td>\n",
       "      <td>0.536880</td>\n",
       "      <td>6.698858</td>\n",
       "      <td>9.088453</td>\n",
       "    </tr>\n",
       "    <tr>\n",
       "      <th>482</th>\n",
       "      <td>state</td>\n",
       "      <td>220</td>\n",
       "      <td>53</td>\n",
       "      <td>NOUN</td>\n",
       "      <td>0.603530</td>\n",
       "      <td>9.007372</td>\n",
       "      <td>9.683029</td>\n",
       "    </tr>\n",
       "    <tr>\n",
       "      <th>3158</th>\n",
       "      <td>concern</td>\n",
       "      <td>57</td>\n",
       "      <td>41</td>\n",
       "      <td>NOUN</td>\n",
       "      <td>0.666435</td>\n",
       "      <td>7.046387</td>\n",
       "      <td>9.269892</td>\n",
       "    </tr>\n",
       "    <tr>\n",
       "      <th>157</th>\n",
       "      <td>base</td>\n",
       "      <td>41</td>\n",
       "      <td>120</td>\n",
       "      <td>VERB</td>\n",
       "      <td>0.666843</td>\n",
       "      <td>8.799785</td>\n",
       "      <td>8.997353</td>\n",
       "    </tr>\n",
       "    <tr>\n",
       "      <th>1013</th>\n",
       "      <td>force</td>\n",
       "      <td>101</td>\n",
       "      <td>44</td>\n",
       "      <td>NOUN</td>\n",
       "      <td>0.696499</td>\n",
       "      <td>8.436421</td>\n",
       "      <td>9.282113</td>\n",
       "    </tr>\n",
       "    <tr>\n",
       "      <th>2597</th>\n",
       "      <td>post</td>\n",
       "      <td>46</td>\n",
       "      <td>61</td>\n",
       "      <td>VERB</td>\n",
       "      <td>0.704809</td>\n",
       "      <td>7.884580</td>\n",
       "      <td>8.895184</td>\n",
       "    </tr>\n",
       "    <tr>\n",
       "      <th>869</th>\n",
       "      <td>play</td>\n",
       "      <td>67</td>\n",
       "      <td>160</td>\n",
       "      <td>VERB</td>\n",
       "      <td>0.706504</td>\n",
       "      <td>6.935749</td>\n",
       "      <td>9.764672</td>\n",
       "    </tr>\n",
       "    <tr>\n",
       "      <th>661</th>\n",
       "      <td>sign</td>\n",
       "      <td>50</td>\n",
       "      <td>76</td>\n",
       "      <td>VERB</td>\n",
       "      <td>0.709628</td>\n",
       "      <td>7.636377</td>\n",
       "      <td>8.864773</td>\n",
       "    </tr>\n",
       "  </tbody>\n",
       "</table>\n",
       "</div>"
      ],
      "text/plain": [
       "        lemma  noun_count  verb_count majority_tag  nv_cosine_similarity  \\\n",
       "3708    issue         171          32         NOUN              0.536880   \n",
       "482     state         220          53         NOUN              0.603530   \n",
       "3158  concern          57          41         NOUN              0.666435   \n",
       "157      base          41         120         VERB              0.666843   \n",
       "1013    force         101          44         NOUN              0.696499   \n",
       "2597     post          46          61         VERB              0.704809   \n",
       "869      play          67         160         VERB              0.706504   \n",
       "661      sign          50          76         VERB              0.709628   \n",
       "\n",
       "      n_variation  v_variation  \n",
       "3708     6.698858     9.088453  \n",
       "482      9.007372     9.683029  \n",
       "3158     7.046387     9.269892  \n",
       "157      8.799785     8.997353  \n",
       "1013     8.436421     9.282113  \n",
       "2597     7.884580     8.895184  \n",
       "869      6.935749     9.764672  \n",
       "661      7.636377     8.864773  "
      ]
     },
     "execution_count": 9,
     "metadata": {},
     "output_type": "execute_result"
    }
   ],
   "source": [
    "lemma_count_df[['lemma', 'noun_count', 'verb_count', 'majority_tag', 'nv_cosine_similarity', 'n_variation', 'v_variation']] \\\n",
    "  .sort_values('nv_cosine_similarity').head(8)"
   ]
  },
  {
   "cell_type": "code",
   "execution_count": 10,
   "metadata": {},
   "outputs": [
    {
     "data": {
      "text/html": [
       "<div>\n",
       "<style scoped>\n",
       "    .dataframe tbody tr th:only-of-type {\n",
       "        vertical-align: middle;\n",
       "    }\n",
       "\n",
       "    .dataframe tbody tr th {\n",
       "        vertical-align: top;\n",
       "    }\n",
       "\n",
       "    .dataframe thead th {\n",
       "        text-align: right;\n",
       "    }\n",
       "</style>\n",
       "<table border=\"1\" class=\"dataframe\">\n",
       "  <thead>\n",
       "    <tr style=\"text-align: right;\">\n",
       "      <th></th>\n",
       "      <th>lemma</th>\n",
       "      <th>noun_count</th>\n",
       "      <th>verb_count</th>\n",
       "      <th>majority_tag</th>\n",
       "      <th>nv_cosine_similarity</th>\n",
       "      <th>n_variation</th>\n",
       "      <th>v_variation</th>\n",
       "    </tr>\n",
       "  </thead>\n",
       "  <tbody>\n",
       "    <tr>\n",
       "      <th>680</th>\n",
       "      <td>search</td>\n",
       "      <td>34</td>\n",
       "      <td>30</td>\n",
       "      <td>NOUN</td>\n",
       "      <td>0.935881</td>\n",
       "      <td>6.715807</td>\n",
       "      <td>6.835266</td>\n",
       "    </tr>\n",
       "    <tr>\n",
       "      <th>62</th>\n",
       "      <td>filter</td>\n",
       "      <td>60</td>\n",
       "      <td>40</td>\n",
       "      <td>NOUN</td>\n",
       "      <td>0.923524</td>\n",
       "      <td>6.272938</td>\n",
       "      <td>6.660912</td>\n",
       "    </tr>\n",
       "    <tr>\n",
       "      <th>956</th>\n",
       "      <td>answer</td>\n",
       "      <td>82</td>\n",
       "      <td>51</td>\n",
       "      <td>NOUN</td>\n",
       "      <td>0.907414</td>\n",
       "      <td>6.706615</td>\n",
       "      <td>8.059229</td>\n",
       "    </tr>\n",
       "    <tr>\n",
       "      <th>689</th>\n",
       "      <td>check</td>\n",
       "      <td>31</td>\n",
       "      <td>104</td>\n",
       "      <td>VERB</td>\n",
       "      <td>0.886386</td>\n",
       "      <td>6.373006</td>\n",
       "      <td>7.351769</td>\n",
       "    </tr>\n",
       "    <tr>\n",
       "      <th>128</th>\n",
       "      <td>return</td>\n",
       "      <td>46</td>\n",
       "      <td>129</td>\n",
       "      <td>VERB</td>\n",
       "      <td>0.880605</td>\n",
       "      <td>7.731968</td>\n",
       "      <td>8.830537</td>\n",
       "    </tr>\n",
       "    <tr>\n",
       "      <th>509</th>\n",
       "      <td>work</td>\n",
       "      <td>402</td>\n",
       "      <td>411</td>\n",
       "      <td>VERB</td>\n",
       "      <td>0.876613</td>\n",
       "      <td>8.436759</td>\n",
       "      <td>9.037231</td>\n",
       "    </tr>\n",
       "    <tr>\n",
       "      <th>2300</th>\n",
       "      <td>increase</td>\n",
       "      <td>36</td>\n",
       "      <td>78</td>\n",
       "      <td>VERB</td>\n",
       "      <td>0.875558</td>\n",
       "      <td>7.281770</td>\n",
       "      <td>8.843405</td>\n",
       "    </tr>\n",
       "    <tr>\n",
       "      <th>192</th>\n",
       "      <td>need</td>\n",
       "      <td>77</td>\n",
       "      <td>467</td>\n",
       "      <td>VERB</td>\n",
       "      <td>0.873682</td>\n",
       "      <td>8.270714</td>\n",
       "      <td>8.945591</td>\n",
       "    </tr>\n",
       "  </tbody>\n",
       "</table>\n",
       "</div>"
      ],
      "text/plain": [
       "         lemma  noun_count  verb_count majority_tag  nv_cosine_similarity  \\\n",
       "680     search          34          30         NOUN              0.935881   \n",
       "62      filter          60          40         NOUN              0.923524   \n",
       "956     answer          82          51         NOUN              0.907414   \n",
       "689      check          31         104         VERB              0.886386   \n",
       "128     return          46         129         VERB              0.880605   \n",
       "509       work         402         411         VERB              0.876613   \n",
       "2300  increase          36          78         VERB              0.875558   \n",
       "192       need          77         467         VERB              0.873682   \n",
       "\n",
       "      n_variation  v_variation  \n",
       "680      6.715807     6.835266  \n",
       "62       6.272938     6.660912  \n",
       "956      6.706615     8.059229  \n",
       "689      6.373006     7.351769  \n",
       "128      7.731968     8.830537  \n",
       "509      8.436759     9.037231  \n",
       "2300     7.281770     8.843405  \n",
       "192      8.270714     8.945591  "
      ]
     },
     "execution_count": 10,
     "metadata": {},
     "output_type": "execute_result"
    }
   ],
   "source": [
    "lemma_count_df[['lemma', 'noun_count', 'verb_count', 'majority_tag', 'nv_cosine_similarity', 'n_variation', 'v_variation']] \\\n",
    "  .sort_values('nv_cosine_similarity', ascending=False).head(8)"
   ]
  },
  {
   "cell_type": "markdown",
   "metadata": {},
   "source": [
    "## Difference in similarity when base is noun vs verb"
   ]
  },
  {
   "cell_type": "code",
   "execution_count": 11,
   "metadata": {},
   "outputs": [
    {
     "name": "stderr",
     "output_type": "stream",
     "text": [
      "/h/bai/moar/bai-conda/lib/python3.7/site-packages/scipy/stats/stats.py:1713: FutureWarning: Using a non-tuple sequence for multidimensional indexing is deprecated; use `arr[tuple(seq)]` instead of `arr[seq]`. In the future this will be interpreted as an array index, `arr[np.array(seq)]`, which will result either in an error or a different result.\n",
      "  return np.add.reduce(sorted[indexer] * weights, axis=axis) / sumval\n"
     ]
    },
    {
     "data": {
      "image/png": "[encoded data removed]",
      "text/plain": [
       "<Figure size 432x288 with 1 Axes>"
      ]
     },
     "metadata": {
      "needs_background": "light"
     },
     "output_type": "display_data"
    }
   ],
   "source": [
    "plot = sns.distplot(lemma_count_df[lemma_count_df.majority_tag == 'NOUN'].nv_cosine_similarity, label='Base=N')\n",
    "plot = sns.distplot(lemma_count_df[lemma_count_df.majority_tag == 'VERB'].nv_cosine_similarity, label='Base=V')\n",
    "plt.legend()\n",
    "plot.set(title=\"Average Cosine Similarity between Noun/Verb Usage\",\n",
    "         xlabel=\"Cosine Similarity\", ylabel=\"Count\")\n",
    "plt.show()"
   ]
  },
  {
   "cell_type": "code",
   "execution_count": 12,
   "metadata": {},
   "outputs": [
    {
     "name": "stdout",
     "output_type": "stream",
     "text": [
      "Mean cosine similarity when Base=N: 0.7894658957208905\n",
      "Mean cosine similarity when Base=V: 0.8200634996096293\n"
     ]
    }
   ],
   "source": [
    "print('Mean cosine similarity when Base=N:', np.mean(lemma_count_df[lemma_count_df.majority_tag == 'NOUN'].nv_cosine_similarity))\n",
    "print('Mean cosine similarity when Base=V:', np.mean(lemma_count_df[lemma_count_df.majority_tag == 'VERB'].nv_cosine_similarity))"
   ]
  },
  {
   "cell_type": "code",
   "execution_count": 13,
   "metadata": {},
   "outputs": [
    {
     "data": {
      "text/plain": [
       "Ttest_indResult(statistic=-1.6827928462176236, pvalue=0.09736532173592662)"
      ]
     },
     "execution_count": 13,
     "metadata": {},
     "output_type": "execute_result"
    }
   ],
   "source": [
    "# T-test of difference in mean\n",
    "scipy.stats.ttest_ind(lemma_count_df[lemma_count_df.majority_tag == 'NOUN'].nv_cosine_similarity,\n",
    "                      lemma_count_df[lemma_count_df.majority_tag == 'VERB'].nv_cosine_similarity)"
   ]
  },
  {
   "cell_type": "markdown",
   "metadata": {},
   "source": [
    "## Difference in variation between majority and minority class"
   ]
  },
  {
   "cell_type": "code",
   "execution_count": 14,
   "metadata": {},
   "outputs": [
    {
     "data": {
      "image/png": "[encoded data removed]",
      "text/plain": [
       "<Figure size 432x288 with 1 Axes>"
      ]
     },
     "metadata": {
      "needs_background": "light"
     },
     "output_type": "display_data"
    }
   ],
   "source": [
    "majority_variation = np.where(lemma_count_df.majority_tag == 'NOUN', lemma_count_df.n_variation, lemma_count_df.v_variation)\n",
    "minority_variation = np.where(lemma_count_df.majority_tag == 'NOUN', lemma_count_df.v_variation, lemma_count_df.n_variation)\n",
    "plot = sns.distplot(majority_variation, label='Majority')\n",
    "plot = sns.distplot(minority_variation, label='Minority')\n",
    "plt.legend()\n",
    "plot.set(title=\"Semantic variation within majority and minority POS class\",\n",
    "         xlabel=\"Standard deviation\", ylabel=\"Density\")\n",
    "plt.show()"
   ]
  },
  {
   "cell_type": "code",
   "execution_count": 15,
   "metadata": {},
   "outputs": [
    {
     "name": "stdout",
     "output_type": "stream",
     "text": [
      "Mean majority variation: 8.37774537893442\n",
      "Mean minority variation: 8.330862918266883\n"
     ]
    }
   ],
   "source": [
    "print('Mean majority variation:', np.mean(majority_variation))\n",
    "print('Mean minority variation:', np.mean(minority_variation))"
   ]
  },
  {
   "cell_type": "code",
   "execution_count": 16,
   "metadata": {},
   "outputs": [
    {
     "data": {
      "text/plain": [
       "Ttest_relResult(statistic=0.2660442328960784, pvalue=0.7910603542779546)"
      ]
     },
     "execution_count": 16,
     "metadata": {},
     "output_type": "execute_result"
    }
   ],
   "source": [
    "# Paired t-test for difference\n",
    "scipy.stats.ttest_rel(majority_variation, minority_variation)"
   ]
  }
 ],
 "metadata": {
  "kernelspec": {
   "display_name": "Python 3",
   "language": "python",
   "name": "python3"
  },
  "language_info": {
   "codemirror_mode": {
    "name": "ipython",
    "version": 3
   },
   "file_extension": ".py",
   "mimetype": "text/x-python",
   "name": "python",
   "nbconvert_exporter": "python",
   "pygments_lexer": "ipython3",
   "version": "3.7.5"
  }
 },
 "nbformat": 4,
 "nbformat_minor": 4
}
